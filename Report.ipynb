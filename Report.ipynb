{
 "cells": [
  {
   "cell_type": "markdown",
   "metadata": {},
   "source": [
    "# Udacity Deep Reinforcement Learning Nanodegree Navigation Project"
   ]
  },
  {
   "cell_type": "markdown",
   "metadata": {},
   "source": [
    "# Method\n",
    "\n",
    "The agent uses the following tools, notions and techniques to solve the environment:\n",
    "- **Deep Q Learning**: the Q-value function, which maps state values to action values and lets the agent pick the *best* action (the one most likely to optimize the total reward), is approximated by a neural network\n",
    "- **Fixed Q-Targets with soft updates**: the algorithm uses two separate *local* and *target* networks with identical architectures, the local network is used as policy and the target network is updated with soft updates to smooth learning\n",
    "- **Epsilon-greedy action selection with epsilon decay**: the agent picks a random action with a probability of $\\epsilon$ which decays over time, to prevent the agent's actions from locking it into too specific situations\n",
    "- **Experience Replay**: instead of learning at every step from the experience it just got, the agent stores every experience (state, action, next state, reward and done flag) in a fixed-size memory and, every few steps, samples a batch of experiences to learn from\n",
    "- **Prioritized Experience Replay**: uniform sampling of experiences draws more on frequent experiences than infrequent ones... it is especially harmful in our current context, since the experience of collecting a banana (good or bad) is much less frequent than the less meaningful experience of moving and nothing happening (i.e. `reward == 0`). Experiences are thus stored with a priority value (the TD error seems to be most frequently used for that purpose) and sampling is done in a prioritized way, to ensure that meaningful experiences are more likely to surface during learning."
   ]
  },
  {
   "cell_type": "markdown",
   "metadata": {},
   "source": [
    "## Neural network architecture\n",
    "\n",
    "The neural networks share the following architecture:\n",
    "- An input layer of `37` nodes corresponding to the 37 values defining a state of the environment\n",
    "- A first fully connected hidden layer with `64` nodes and a ReLU activation\n",
    "- A second fully connected hidden layer with `64` nodes and a ReLU activation\n",
    "- An output layer of `4` nodes corresponding to the 4 possible actions\n",
    "\n",
    "<img src=\"nn-architecture.png\">\n",
    "\n",
    "Note: apart from the input and output layers that are obviously tied to the environment, the architecture is the same as the one used in Udacity's DQN algorithm."
   ]
  },
  {
   "cell_type": "markdown",
   "metadata": {},
   "source": [
    "## Hyper-parameters\n",
    "\n",
    "- Memory\n",
    "  - Buffer size: $1e^5$ as in Udacity's DQN algorithm\n",
    "  - Minimum priority: $1e^{-5}$ (inverse of the buffer size) to ensure all experiences have at least a tiny chance to be sampled\n",
    "  - Priority factor: $90\\%$ as a first try value which seemed to work fine\n",
    "- Soft updates\n",
    "  - Tau $\\tau$: $1e^{-3}$ as in Udacity's DQN algorithm\n",
    "- Training\n",
    "  - Batch size: $64$ as in Udacity's DQN algorithm\n",
    "  - Gamma $\\gamma$ discount factor: $0.99$ as in Udacity's DQN algorithm\n",
    "  - Learning rate: $1e^{-4}$ which is 5 times smaller than the value used in Udacity's DQN algorithm, because smaller values seemed to help the algorithm learn faster\n",
    "  - Update interval: $4$ as in Udacity's DQN algorithm"
   ]
  },
  {
   "cell_type": "markdown",
   "metadata": {},
   "source": [
    "# Implementation\n",
    "\n",
    "## Initial setup\n",
    "\n",
    "Please follow the instructions of `README.md` (found in the same root folder as the present notebook) to install the required packages and download the game environment."
   ]
  },
  {
   "cell_type": "markdown",
   "metadata": {},
   "source": [
    "## Imports\n",
    "\n",
    "The following packages are required for the notebook to work."
   ]
  },
  {
   "cell_type": "code",
   "execution_count": 1,
   "metadata": {},
   "outputs": [],
   "source": [
    "import numpy as np\n",
    "import torch\n",
    "import torch.nn as nn\n",
    "import torch.optim as optim\n",
    "\n",
    "from collections import deque, namedtuple, OrderedDict\n",
    "from IPython.display import Audio\n",
    "from torch.nn.functional import mse_loss\n",
    "from tqdm.notebook import trange\n",
    "from unityagents import UnityEnvironment\n",
    "\n",
    "import matplotlib.pyplot as plt\n",
    "%matplotlib inline"
   ]
  },
  {
   "cell_type": "markdown",
   "metadata": {},
   "source": [
    "## Deep Q Network"
   ]
  },
  {
   "cell_type": "code",
   "execution_count": 2,
   "metadata": {},
   "outputs": [],
   "source": [
    "class DQN(nn.Module):\n",
    "    \"\"\"Actor (Policy) Model\"\"\"\n",
    "\n",
    "    def __init__(self, layer_sizes):\n",
    "        \"\"\"Build a neural network with a series of linear hidden layers and ReLU activation\n",
    "        :param list layer_sizes: sizes of all layers, from input to output,\n",
    "                                 e.g. [37, 64, 64, 4] for two hidden layers\n",
    "        \"\"\"\n",
    "        \n",
    "        super(DQN, self).__init__()\n",
    "\n",
    "        # Define the layers\n",
    "        layers = OrderedDict()\n",
    "        for i in range(len(layer_sizes) - 1):\n",
    "            layers['fc{}'.format(i)] = nn.Linear(layer_sizes[i], layer_sizes[i+1])\n",
    "            if i + 2 < len(layer_sizes): # Last layer does not have a ReLU\n",
    "                layers['relu{}'.format(i)] = nn.ReLU()\n",
    "\n",
    "        # Define the model\n",
    "        self.model = nn.Sequential(layers)\n",
    "\n",
    "    def forward(self, state):\n",
    "        \"\"\"Forward pass through the DQN to compute action values based on provided state\n",
    "        :param state: current state of the environment\n",
    "        :return: action values as per current policy\n",
    "        \"\"\"\n",
    "        \n",
    "        return self.model(state)"
   ]
  },
  {
   "cell_type": "markdown",
   "metadata": {},
   "source": [
    "## Prioritized Replay Buffer"
   ]
  },
  {
   "cell_type": "code",
   "execution_count": 3,
   "metadata": {},
   "outputs": [],
   "source": [
    "BUFFER_SIZE = 100000   # maximum number of prior experiences kept in memory\n",
    "MIN_PRIORITY = 1e-5    # minimum priority to ensure no experience is entirely unusable for learning\n",
    "PRIORITY_FACTOR = 0.9  # 0 = uniform sampling, 1 = fully prioritized sampling"
   ]
  },
  {
   "cell_type": "code",
   "execution_count": 4,
   "metadata": {},
   "outputs": [],
   "source": [
    "class PrioritizedReplayBuffer:\n",
    "    \"\"\"Fixed-size buffer to store experience tuples and retrieve them based on priorities\"\"\"\n",
    "\n",
    "    def __init__(self, batch_size, device):\n",
    "        \"\"\"\n",
    "        :param int batch_size: size of each training batch\n",
    "        :param str device: device to use for training\n",
    "        \"\"\"\n",
    "        \n",
    "        self.device = device\n",
    "        self.batch_size = batch_size\n",
    "        \n",
    "        # Prepare storage of experiences\n",
    "        self.experience = namedtuple(\"Experience\", field_names=[\"state\", \"action\", \"reward\", \"next_state\", \"done\"])\n",
    "\n",
    "        # Initialize memory to store the experiences\n",
    "        self.memory = deque(maxlen=BUFFER_SIZE)\n",
    "        \n",
    "        # Initialize buffer to store the priority values associated with the experiences\n",
    "        self.priorities = deque(maxlen=BUFFER_SIZE)\n",
    "\n",
    "    def add(self, state, action, reward, next_state, done, priority):\n",
    "        \"\"\"Commit an experience to memory (and possibly eject the oldest experience, if buffer size is reached)\n",
    "        :param state: state of the environment before the agent acted\n",
    "        :param action: action the agent chose\n",
    "        :param reward: reward the environment bestowed on the agent\n",
    "        :param next_state: state of the environment after the agent acted\n",
    "        :param done: False if the episode is still ongoing\n",
    "        :param priority: importance of the experience (generally TD error)\n",
    "        \"\"\"\n",
    "        \n",
    "        # Prepare named tuple\n",
    "        e = self.experience(state, action, reward, next_state, done)\n",
    "\n",
    "        # Commit experience to memory\n",
    "        self.memory.append(e)\n",
    "        \n",
    "        # Save priority of experience (or minimum if the priority given is too low)\n",
    "        self.priorities.append(max(priority, MIN_PRIORITY))\n",
    "\n",
    "    def sample(self):\n",
    "        \"\"\"Randomly samples a batch of experiences based on their priorities\"\"\"\n",
    "        \n",
    "        # Prepare sampling probabilities\n",
    "        adjusted_priorities = np.array(self.priorities) ** PRIORITY_FACTOR\n",
    "        sampling_probabilities = list(adjusted_priorities / np.sum(adjusted_priorities))\n",
    "\n",
    "        # Sample experiences\n",
    "        indices = np.random.choice(len(self.memory), size=self.batch_size, p=sampling_probabilities)\n",
    "        experiences = [self.memory[idx] for idx in indices]\n",
    "\n",
    "        # Prepare data\n",
    "        states = torch.from_numpy(np.vstack([e.state\n",
    "                                             for e in experiences if e is not None])).float().to(self.device)\n",
    "        actions = torch.from_numpy(np.vstack([e.action\n",
    "                                              for e in experiences if e is not None])).long().to(self.device)\n",
    "        rewards = torch.from_numpy(np.vstack([e.reward\n",
    "                                             for e in experiences if e is not None])).float().to(self.device)\n",
    "        next_states = torch.from_numpy(np.vstack([e.next_state\n",
    "                                                  for e in experiences if e is not None])).float().to(self.device)\n",
    "        dones = torch.from_numpy(np.vstack([e.done for e in experiences if e is not None])\n",
    "                                 .astype(np.uint8)).float().to(self.device)\n",
    "\n",
    "        return states, actions, rewards, next_states, dones\n",
    "\n",
    "    def __len__(self):\n",
    "        \"\"\"Return the current size of internal memory\"\"\"\n",
    "        \n",
    "        return len(self.memory)"
   ]
  },
  {
   "cell_type": "markdown",
   "metadata": {},
   "source": [
    "## Soft updates"
   ]
  },
  {
   "cell_type": "code",
   "execution_count": 5,
   "metadata": {},
   "outputs": [],
   "source": [
    "TAU = 1e-3  # Parameter of the soft update"
   ]
  },
  {
   "cell_type": "code",
   "execution_count": 6,
   "metadata": {},
   "outputs": [],
   "source": [
    "def soft_update(local_model, target_model):\n",
    "    \"\"\"Soft update model parameters: θ_target = τ*θ_local + (1 - τ)*θ_target\n",
    "    :param local_model: PyTorch model the weights are copied from\n",
    "    :param target_model: PyTorch model the weights are copied to\n",
    "    \"\"\"\n",
    "    \n",
    "    for target_param, local_param in zip(target_model.parameters(), local_model.parameters()):\n",
    "        target_param.data.copy_(TAU * local_param.data + (1.0 - TAU) * target_param.data)"
   ]
  },
  {
   "cell_type": "markdown",
   "metadata": {},
   "source": [
    "## Agent"
   ]
  },
  {
   "cell_type": "code",
   "execution_count": 7,
   "metadata": {},
   "outputs": [],
   "source": [
    "BATCH_SIZE = 64           # Size of the training batches\n",
    "GAMMA = 0.99              # Reward discount factor\n",
    "LAYERS = [37, 64, 64, 4]  # Dimensions of the DQN layers including input/state and output/action\n",
    "LR = 1e-4                 # Learning rate\n",
    "UPDATE_EVERY = 4          # Interval between updates of the target Q network"
   ]
  },
  {
   "cell_type": "code",
   "execution_count": 8,
   "metadata": {},
   "outputs": [],
   "source": [
    "class Agent:\n",
    "    \"\"\"Interacts with and learns from the environment\"\"\"\n",
    "\n",
    "    def __init__(self, device):\n",
    "        \"\"\"Initialize everything the agent needs to learn\n",
    "        :param str device: device to use for training\n",
    "        \"\"\"\n",
    "        \n",
    "        self.device = device\n",
    "\n",
    "        # Save size of output layer\n",
    "        self.action_size = LAYERS[-1]\n",
    "\n",
    "        # Define the double Q networks\n",
    "        self.local_dqn = DQN(LAYERS).to(device)\n",
    "        self.target_dqn = DQN(LAYERS).to(device)\n",
    "        self.optimizer = optim.Adam(self.local_dqn.parameters(), lr=LR)\n",
    "\n",
    "        # Setup a prioritized replay buffer\n",
    "        self.memory = PrioritizedReplayBuffer(BATCH_SIZE, device)\n",
    "\n",
    "        # Initialize time step to update the target network only every UPDATE_EVERY steps\n",
    "        self.t_step = 0\n",
    "\n",
    "    def eval(self, state):\n",
    "        \"\"\"Returns complete output of local network for a given state (i.e. all action values)\n",
    "        :param state: state that will be fed to the local network\n",
    "        :return: complete output of the network\n",
    "        \"\"\"\n",
    "        \n",
    "        # Prepare input\n",
    "        state = torch.from_numpy(state).float().unsqueeze(0).to(self.device)\n",
    "\n",
    "        # Get action values (with training mode OFF)\n",
    "        self.local_dqn.eval()\n",
    "        with torch.no_grad():\n",
    "            action_values = self.local_dqn(state)\n",
    "        self.local_dqn.train()\n",
    "\n",
    "        return action_values.cpu().data.numpy()[0]\n",
    "\n",
    "    def learn(self, experiences):\n",
    "        \"\"\"Learn from a batch of experience tuples\n",
    "        :param Tuple[torch.Tensor] experiences: batch of (s, a, r, s', done) tuples\n",
    "        \"\"\"\n",
    "        \n",
    "        # Unpack batch\n",
    "        states, actions, rewards, next_states, dones = experiences\n",
    "\n",
    "        # Get max predicted Q values from target network\n",
    "        q_targets_next = self.target_dqn(next_states).detach().max(1)[0].unsqueeze(1)\n",
    "        \n",
    "        # Compute Q targets\n",
    "        q_targets = rewards + (GAMMA * q_targets_next * (1 - dones))\n",
    "\n",
    "        # Get expected Q values from local network\n",
    "        q_expected = self.local_dqn(states).gather(1, actions)\n",
    "\n",
    "        # Compute loss\n",
    "        loss = mse_loss(q_expected, q_targets)\n",
    "\n",
    "        # Back-prop\n",
    "        self.optimizer.zero_grad()\n",
    "        loss.backward()\n",
    "        self.optimizer.step()\n",
    "\n",
    "        # Soft update of the target network\n",
    "        soft_update(self.local_dqn, self.target_dqn)\n",
    "\n",
    "    def step(self, state, action, reward, next_state, done):\n",
    "        \"\"\"Save experience in memory and learn every UPDATE_EVERY time steps\n",
    "        :param state: state of the environment before the agent acted\n",
    "        :param action: action the agent chose\n",
    "        :param reward: reward the environment bestowed on the agent\n",
    "        :param next_state: state of the environment after the agent acted\n",
    "        :param done: False if the episode is still ongoing\n",
    "        \"\"\"\n",
    "        \n",
    "        # Compute TD error to use as priority\n",
    "        td_error = abs(reward + GAMMA * max(self.eval(next_state)) - self.eval(state)[action])\n",
    "\n",
    "        # Commit experience to memory\n",
    "        self.memory.add(state, action, reward, next_state, done, td_error)\n",
    "\n",
    "        # Update time step\n",
    "        self.t_step = (self.t_step + 1) % UPDATE_EVERY\n",
    "\n",
    "        # Learn every UPDATE_EVERY time steps if enough samples are available\n",
    "        if self.t_step == 0 and len(self.memory) > BATCH_SIZE:\n",
    "            experiences = self.memory.sample()\n",
    "            self.learn(experiences)\n",
    "\n",
    "    def act(self, state, eps=0.0):\n",
    "        \"\"\"Returns an action for a given state as per current policy\n",
    "        :param state: state of the environment\n",
    "        :param eps: epsilon for epsilon-greedy action selection\n",
    "        :return: action chosen by the agent\n",
    "        \"\"\"\n",
    "        \n",
    "        # Prepare input\n",
    "        state = torch.from_numpy(state).float().unsqueeze(0).to(self.device)\n",
    "\n",
    "        # Get action values from local network with training mode OFF\n",
    "        self.local_dqn.eval()\n",
    "        with torch.no_grad():\n",
    "            action_values = self.local_dqn(state)\n",
    "        self.local_dqn.train()\n",
    "\n",
    "        # Epsilon-greedy action selection\n",
    "        if np.random.random() > eps:\n",
    "            return np.argmax(action_values.cpu().data.numpy()).astype(np.int32)\n",
    "            # Note: without type conversion, argmax sometimes outputs a 64-bit integer that wrecks the UnityEnvironment\n",
    "        else:\n",
    "            return np.random.choice(np.arange(self.action_size))"
   ]
  },
  {
   "cell_type": "markdown",
   "metadata": {},
   "source": [
    "## Unity Environment"
   ]
  },
  {
   "cell_type": "markdown",
   "metadata": {},
   "source": [
    "Modify the next line so that the `file_name` parameter matches the location of the Unity environment you downloaded."
   ]
  },
  {
   "cell_type": "code",
   "execution_count": 9,
   "metadata": {},
   "outputs": [
    {
     "name": "stderr",
     "output_type": "stream",
     "text": [
      "INFO:unityagents:\n",
      "'Academy' started successfully!\n",
      "Unity Academy name: Academy\n",
      "        Number of Brains: 1\n",
      "        Number of External Brains : 1\n",
      "        Lesson number : 0\n",
      "        Reset Parameters :\n",
      "\t\t\n",
      "Unity brain name: BananaBrain\n",
      "        Number of Visual Observations (per agent): 0\n",
      "        Vector Observation space type: continuous\n",
      "        Vector Observation space size (per agent): 37\n",
      "        Number of stacked Vector Observation: 1\n",
      "        Vector Action space type: discrete\n",
      "        Vector Action space size (per agent): 4\n",
      "        Vector Action descriptions: , , , \n"
     ]
    }
   ],
   "source": [
    "env = UnityEnvironment(file_name=\"Banana_Windows_x86_64/Banana.exe\")"
   ]
  },
  {
   "cell_type": "markdown",
   "metadata": {},
   "source": [
    "An empty Unity window should have opened. If you switch to it during training or testing, you will be able to watch the agent in action.\n",
    "\n",
    "**Note**: if the environment is set to training mode, the action will be so fast, it might be uncomfortable to watch.\n",
    "\n",
    "Once the environment is launched, we need to connect to it via a *brain name*. In some Unity environments, there are more than one brain/agent to control, but in the present case, there is only one."
   ]
  },
  {
   "cell_type": "code",
   "execution_count": 10,
   "metadata": {},
   "outputs": [],
   "source": [
    "# Connect to the default (and only) brain\n",
    "brain_name = env.brain_names[0]\n",
    "brain = env.brains[brain_name]"
   ]
  },
  {
   "cell_type": "markdown",
   "metadata": {},
   "source": [
    "## Training"
   ]
  },
  {
   "cell_type": "code",
   "execution_count": 11,
   "metadata": {},
   "outputs": [],
   "source": [
    "SCORE_WINDOW_SIZE = 100\n",
    "TARGET_AVG_SCORE = 13"
   ]
  },
  {
   "cell_type": "code",
   "execution_count": 12,
   "metadata": {},
   "outputs": [],
   "source": [
    "def train(max_episodes=2000, max_t=300, eps_start=1.0, eps_end=0.01, eps_decay=0.995):\n",
    "    \"\"\"Trains the agent until it reaches the defined goal or the maximum number of episodes\n",
    "    :param int max_episodes: limit number of episodes to try to reach the goal\n",
    "    :param int max_t: upper limit of time steps (in case the environment itself never stops the episode)\n",
    "    :param float eps_start: initial value of epsilon for epsilon-greedy action selection\n",
    "    :param float eps_end: final value of epsilon for epsilon-greedy action selection\n",
    "    :param float eps_decay: decay value to decrease epsilon over time\n",
    "    :return: scores of all episodes\n",
    "    \"\"\"\n",
    "    \n",
    "    # Use CUDA if available\n",
    "    device = torch.device(\"cuda:0\" if torch.cuda.is_available() else \"cpu\")\n",
    "\n",
    "    # Initializations\n",
    "    agent = Agent(device)\n",
    "    eps = eps_start\n",
    "    _scores = []\n",
    "    score_window = deque(maxlen=SCORE_WINDOW_SIZE)\n",
    "    \n",
    "    # Episode loop\n",
    "    episode_iterator = trange(1, max_episodes + 1, desc=\"Training\")\n",
    "    for episode in episode_iterator:\n",
    "        # Reset score\n",
    "        score = 0\n",
    "\n",
    "        # Reset the environment in training mode\n",
    "        env_info = env.reset(train_mode=True)[brain_name]\n",
    "\n",
    "        # Fetch first state of the environment\n",
    "        state = env_info.vector_observations[0]\n",
    "\n",
    "        # Time steps loop\n",
    "        for t in range(max_t):\n",
    "            # Let the agent pick an action\n",
    "            action = agent.act(state, eps)\n",
    "\n",
    "            # Apply the chosen action on the environment\n",
    "            env_info = env.step(action)[brain_name]\n",
    "\n",
    "            # Extract the results of the action\n",
    "            next_state = env_info.vector_observations[0]\n",
    "            reward = env_info.rewards[0]\n",
    "            done = env_info.local_done[0]\n",
    "\n",
    "            # Let the agent memorize and learn from the experience \n",
    "            agent.step(state, action, reward, next_state, done)\n",
    "\n",
    "            # Update the score and state\n",
    "            score += reward\n",
    "            state = next_state\n",
    "\n",
    "            # Stop if the episode is finished\n",
    "            if done:\n",
    "                break\n",
    "\n",
    "        # Save the score\n",
    "        _scores.append(score)\n",
    "        score_window.append(score)\n",
    "\n",
    "        # Decrease epsilon\n",
    "        eps = max(eps_end, eps_decay * eps)\n",
    "\n",
    "        # Compute average score\n",
    "        avg_score = np.mean(score_window)\n",
    "\n",
    "        # Log\n",
    "        episode_iterator.set_postfix(score=score, average_score=avg_score, epsilon=eps)\n",
    "\n",
    "        # Save the model weights for comparison of behavior\n",
    "        if episode % SCORE_WINDOW_SIZE == 0:\n",
    "            torch.save(agent.local_dqn.state_dict(), 'checkpoint-{}.pth'.format(episode))\n",
    "        \n",
    "        # Stop if the goal is reached\n",
    "        if avg_score >= TARGET_AVG_SCORE:\n",
    "            torch.save(agent.local_dqn.state_dict(), 'checkpoint-solved-{}.pth'.format(episode))\n",
    "            episode_iterator.close()\n",
    "            break\n",
    "\n",
    "    return _scores"
   ]
  },
  {
   "cell_type": "code",
   "execution_count": 13,
   "metadata": {},
   "outputs": [
    {
     "data": {
      "application/vnd.jupyter.widget-view+json": {
       "model_id": "b0b3e10a138945969152654f6f2eb514",
       "version_major": 2,
       "version_minor": 0
      },
      "text/plain": [
       "HBox(children=(IntProgress(value=0, description='Training', max=2000, style=ProgressStyle(description_width='i…"
      ]
     },
     "metadata": {},
     "output_type": "display_data"
    },
    {
     "name": "stdout",
     "output_type": "stream",
     "text": [
      "\n"
     ]
    },
    {
     "data": {
      "text/html": [
       "\n",
       "                <audio  controls=\"controls\" autoplay=\"autoplay\">\n",
       "                    <source src=\"data:audio/wav;base64,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\" type=\"audio/wav\" />\n",
       "                    Your browser does not support the audio element.\n",
       "                </audio>\n",
       "              "
      ],
      "text/plain": [
       "<IPython.lib.display.Audio object>"
      ]
     },
     "execution_count": 13,
     "metadata": {},
     "output_type": "execute_result"
    }
   ],
   "source": [
    "scores = train()\n",
    "Audio('notification.wav', autoplay=True) # This line will play a sound when training stops"
   ]
  },
  {
   "cell_type": "markdown",
   "metadata": {},
   "source": [
    "The average score of episodes `1027` to `1127` is above `13`. Our agent has managed to reach the goal in fewer than 1800 episodes."
   ]
  },
  {
   "cell_type": "markdown",
   "metadata": {},
   "source": [
    "## Plot score evolution"
   ]
  },
  {
   "cell_type": "code",
   "execution_count": 14,
   "metadata": {},
   "outputs": [
    {
     "data": {
      "image/png": "[encoded data removed]",
      "text/plain": [
       "<Figure size 432x288 with 1 Axes>"
      ]
     },
     "metadata": {
      "needs_background": "light"
     },
     "output_type": "display_data"
    }
   ],
   "source": [
    "fig = plt.figure()\n",
    "ax = fig.add_subplot(111)\n",
    "plt.plot(np.arange(len(scores)), scores)\n",
    "plt.axhline(y=13.0, color='g', linestyle='-')\n",
    "plt.ylabel('Score')\n",
    "plt.xlabel('Episode #')\n",
    "plt.show()"
   ]
  },
  {
   "cell_type": "markdown",
   "metadata": {},
   "source": [
    "Clearly the score varies a lot from an episode to the next. It can be explained by the random nature of the environment itself: in some episodes, the agent starts surrounded by blue bananas and has a hard time getting all the way to the yellow ones in time to get a good score. Conversely, if most yellow bananas spawn near the agent's starting point, it will rack up a huge score that will be well above its average."
   ]
  },
  {
   "cell_type": "markdown",
   "metadata": {},
   "source": [
    "## Loading and using a trained model"
   ]
  },
  {
   "cell_type": "code",
   "execution_count": 19,
   "metadata": {},
   "outputs": [],
   "source": [
    "def evaluate(model_file_name):\n",
    "    \"\"\"Loads previously saved weights into an agent and lets it play one episode with training mode off\n",
    "    :param str model_file_name: path to the file containing the saved weights to load\n",
    "    \"\"\"\n",
    "    \n",
    "    # Use CUDA if available\n",
    "    device = torch.device(\"cuda:0\" if torch.cuda.is_available() else \"cpu\")\n",
    "    \n",
    "    # Initialize a new agent\n",
    "    agent = Agent(device)\n",
    "\n",
    "    # Load weights\n",
    "    agent.local_dqn.load_state_dict(torch.load(model_file_name))\n",
    "\n",
    "    # Reset environment\n",
    "    env_info = env.reset(train_mode=False)[brain_name]\n",
    "    \n",
    "    # Initialize variables\n",
    "    score = 0\n",
    "    done = False\n",
    "    state = env_info.vector_observations[0]\n",
    "    \n",
    "    # During the whole episode\n",
    "    while not done:\n",
    "        # Pick an action\n",
    "        action = agent.act(state)\n",
    "        \n",
    "        # Perform the action on the environment\n",
    "        env_info = env.step(action)[brain_name]\n",
    "        \n",
    "        # Extract updated info from the environment\n",
    "        next_state = env_info.vector_observations[0]\n",
    "        reward = env_info.rewards[0]\n",
    "        done = env_info.local_done[0]\n",
    "        \n",
    "        # Update the score and state\n",
    "        score += reward\n",
    "        state = next_state\n",
    "    \n",
    "    print(\"Scored {}\".format(score))\n",
    "    \n",
    "    return score"
   ]
  },
  {
   "cell_type": "code",
   "execution_count": 21,
   "metadata": {},
   "outputs": [
    {
     "name": "stdout",
     "output_type": "stream",
     "text": [
      "Scored 14.0\n"
     ]
    },
    {
     "data": {
      "text/plain": [
       "14.0"
      ]
     },
     "execution_count": 21,
     "metadata": {},
     "output_type": "execute_result"
    }
   ],
   "source": [
    "evaluate(\"checkpoint-solved-1127.pth\")"
   ]
  },
  {
   "cell_type": "markdown",
   "metadata": {},
   "source": [
    "Here is what the agent looks like in action:\n",
    "\n",
    "<img src=\"solved-1127.gif\">"
   ]
  },
  {
   "cell_type": "markdown",
   "metadata": {},
   "source": [
    "## Closing the Unity Environment"
   ]
  },
  {
   "cell_type": "code",
   "execution_count": 26,
   "metadata": {},
   "outputs": [],
   "source": [
    "env.close()"
   ]
  },
  {
   "cell_type": "markdown",
   "metadata": {},
   "source": [
    "# Conclusion\n",
    "\n",
    "Udacity's DQN algorithm that solved OpenAI Gym's LunarLander worked for this Unity environment almost as-is. One minor adjustment (decreasing the learning rate sped up the agent's learning) and one major improvement (prioritized experience replay) were enough to meet the project's goals.\n",
    "\n",
    "Looking at the agent's behavior, it clearly seems to know that yellow bananas are desirable and blue bananas must be avoided. It sometimes jerks sideways and it is hard to tell whether it is a meaningless motion or if the agent is trying to better assess the positions of bananas in the environment to plan its next moves...\n",
    "\n",
    "Many potential improvements could be considered besides more fine-tuning of the hyper-parameters, including using Double DQNs, Dueling DQNs or switching to the Rainbow algorithm which incorporates all those improvements.\n",
    "\n",
    "It would be very helpful to be able to set the random seed of the environment itself. Without that feature, setting the random seeds in our algorithm will not ensure reproducible results. The randomness of the environment makes comparing different sets of hyperparameters a little bit harder."
   ]
  },
  {
   "cell_type": "markdown",
   "metadata": {},
   "source": [
    "# References\n",
    "\n",
    "1. Mnih, Volodymyr, et al. \"Human-level control through deep reinforcement learning\" Nature518.7540 (2015): 529 [PDF](http://www.davidqiu.com:8888/research/nature14236.pdf)\n",
    "2. Schaul, Tom, et al. \"Prioritized Experience Replay\" arXiv:1511.05952 cs.LG [PDF](https://arxiv.org/pdf/1511.05952)"
   ]
  },
  {
   "cell_type": "markdown",
   "metadata": {},
   "source": [
    "# Credits\n",
    "\n",
    "- The algorithm this one is based on is the [Deep Q-Network algorithm by Udacity](https://github.com/udacity/deep-reinforcement-learning/tree/master/dqn)\n",
    "- The neural network architecture diagram was generated with [NN SVG](http://alexlenail.me/NN-SVG/index.html)\n",
    "then edited with [Inkscape](https://inkscape.org/)\n",
    "- The GIF recordings were made with [ScreenToGif](https://www.screentogif.com/)\n",
    "- The notification sound was found on [WavSource.com](http://www.wavsource.com/video_games/pac-man.htm)"
   ]
  }
 ],
 "metadata": {
  "kernelspec": {
   "display_name": "banana",
   "language": "python",
   "name": "banana"
  },
  "language_info": {
   "codemirror_mode": {
    "name": "ipython",
    "version": 3
   },
   "file_extension": ".py",
   "mimetype": "text/x-python",
   "name": "python",
   "nbconvert_exporter": "python",
   "pygments_lexer": "ipython3",
   "version": "3.6.9"
  },
  "pycharm": {
   "stem_cell": {
    "cell_type": "raw",
    "metadata": {
     "collapsed": false
    },
    "source": []
   }
  }
 },
 "nbformat": 4,
 "nbformat_minor": 2
}
